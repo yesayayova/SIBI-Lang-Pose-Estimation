{
 "cells": [
  {
   "cell_type": "markdown",
   "metadata": {},
   "source": [
    "# Melakukan Training Terhadap Dataset\n",
    "\n",
    "Pada notebook ini, kalian akan diarahkan untuk melakukan training terhadap dataset yang telah kalian buat hingga menghasilkan sebuah model Machine Learning hingga komputer dapat menerjemahkan pose jari SIBI language kalian. Adapun library yang harus kalian install adalah sebagai berikut\n",
    "\n",
    "<ul>\n",
    "    <li>pandas</li>\n",
    "    <li>numpy</li>\n",
    "    <li>opencv</li>\n",
    "    <li>mediapipe</li>\n",
    "    <li>csv</li>\n",
    "    <li>pickle</li>\n",
    "    <li>scikit-learn</li>\n",
    "</ul>\n",
    "\n",
    "\n",
    "Diakhir sesi kalian akan menyimpan sebuah file dengan format .sav yang meruapakan model hasil training kalian, yang nantinya dapat digunakan untuk testing"
   ]
  },
  {
   "cell_type": "code",
   "execution_count": 217,
   "metadata": {},
   "outputs": [],
   "source": [
    "import pandas as pd\n",
    "import numpy as np\n",
    "import cv2\n",
    "import mediapipe as mp\n",
    "import os\n",
    "from sklearn.model_selection import train_test_split\n",
    "from sklearn.svm import SVC\n",
    "from sklearn import metrics\n",
    "from sklearn.preprocessing import LabelEncoder\n",
    "from sklearn.metrics import classification_report\n",
    "import pickle"
   ]
  },
  {
   "cell_type": "markdown",
   "metadata": {},
   "source": [
    "## 1. Mengecek label saja yang akan kalian training"
   ]
  },
  {
   "cell_type": "code",
   "execution_count": 218,
   "metadata": {},
   "outputs": [
    {
     "name": "stdout",
     "output_type": "stream",
     "text": [
      "A\n",
      "B\n",
      "C\n",
      "D\n",
      "E\n",
      "F\n",
      "Selesai\n"
     ]
    }
   ],
   "source": [
    "path_dataset = './data'\n",
    "\n",
    "data_files = os.listdir(path_dataset)\n",
    "for file in data_files:\n",
    "    print(file[5:-4])"
   ]
  },
  {
   "cell_type": "markdown",
   "metadata": {},
   "source": [
    "## 2. Menggabungkan File CSV pada Setiap label ke Sebuah Dataframe"
   ]
  },
  {
   "cell_type": "code",
   "execution_count": 219,
   "metadata": {},
   "outputs": [],
   "source": [
    "for i, filename in enumerate(data_files):\n",
    "    label_name = filename[5:-4]\n",
    "    data = pd.read_csv(path_dataset+ '/data_'+label_name+'.csv')\n",
    "    columns = ['fitur_' + str(i) for i in range(1, 211)]\n",
    "    data.columns = columns\n",
    "    data['classes'] = label_name\n",
    "    data.head()\n",
    "    if i > 0:\n",
    "        data_all = pd.concat([data_all, data], axis=0, join='outer')\n",
    "    else:\n",
    "        data_all = data.copy()"
   ]
  },
  {
   "cell_type": "code",
   "execution_count": 220,
   "metadata": {},
   "outputs": [
    {
     "data": {
      "text/html": [
       "<div>\n",
       "<style scoped>\n",
       "    .dataframe tbody tr th:only-of-type {\n",
       "        vertical-align: middle;\n",
       "    }\n",
       "\n",
       "    .dataframe tbody tr th {\n",
       "        vertical-align: top;\n",
       "    }\n",
       "\n",
       "    .dataframe thead th {\n",
       "        text-align: right;\n",
       "    }\n",
       "</style>\n",
       "<table border=\"1\" class=\"dataframe\">\n",
       "  <thead>\n",
       "    <tr style=\"text-align: right;\">\n",
       "      <th></th>\n",
       "      <th>fitur_1</th>\n",
       "      <th>fitur_2</th>\n",
       "      <th>fitur_3</th>\n",
       "      <th>fitur_4</th>\n",
       "      <th>fitur_5</th>\n",
       "      <th>fitur_6</th>\n",
       "      <th>fitur_7</th>\n",
       "      <th>fitur_8</th>\n",
       "      <th>fitur_9</th>\n",
       "      <th>fitur_10</th>\n",
       "      <th>...</th>\n",
       "      <th>fitur_202</th>\n",
       "      <th>fitur_203</th>\n",
       "      <th>fitur_204</th>\n",
       "      <th>fitur_205</th>\n",
       "      <th>fitur_206</th>\n",
       "      <th>fitur_207</th>\n",
       "      <th>fitur_208</th>\n",
       "      <th>fitur_209</th>\n",
       "      <th>fitur_210</th>\n",
       "      <th>classes</th>\n",
       "    </tr>\n",
       "  </thead>\n",
       "  <tbody>\n",
       "    <tr>\n",
       "      <th>0</th>\n",
       "      <td>320.0</td>\n",
       "      <td>134.708301</td>\n",
       "      <td>34.392446</td>\n",
       "      <td>12.769665</td>\n",
       "      <td>0.000000</td>\n",
       "      <td>145.696174</td>\n",
       "      <td>117.066474</td>\n",
       "      <td>116.847531</td>\n",
       "      <td>139.331197</td>\n",
       "      <td>238.295912</td>\n",
       "      <td>...</td>\n",
       "      <td>535.759424</td>\n",
       "      <td>556.293177</td>\n",
       "      <td>636.938118</td>\n",
       "      <td>589.824337</td>\n",
       "      <td>539.342499</td>\n",
       "      <td>544.262461</td>\n",
       "      <td>619.052197</td>\n",
       "      <td>593.708081</td>\n",
       "      <td>557.538908</td>\n",
       "      <td>A</td>\n",
       "    </tr>\n",
       "    <tr>\n",
       "      <th>1</th>\n",
       "      <td>320.0</td>\n",
       "      <td>130.150883</td>\n",
       "      <td>30.815050</td>\n",
       "      <td>12.719490</td>\n",
       "      <td>0.000000</td>\n",
       "      <td>138.628910</td>\n",
       "      <td>125.406017</td>\n",
       "      <td>122.065132</td>\n",
       "      <td>132.449196</td>\n",
       "      <td>232.542191</td>\n",
       "      <td>...</td>\n",
       "      <td>521.415432</td>\n",
       "      <td>548.210228</td>\n",
       "      <td>637.132735</td>\n",
       "      <td>584.476236</td>\n",
       "      <td>528.805951</td>\n",
       "      <td>536.877390</td>\n",
       "      <td>613.959383</td>\n",
       "      <td>589.747087</td>\n",
       "      <td>552.753362</td>\n",
       "      <td>A</td>\n",
       "    </tr>\n",
       "    <tr>\n",
       "      <th>2</th>\n",
       "      <td>320.0</td>\n",
       "      <td>130.930720</td>\n",
       "      <td>29.465957</td>\n",
       "      <td>9.237091</td>\n",
       "      <td>0.000000</td>\n",
       "      <td>142.284451</td>\n",
       "      <td>123.571689</td>\n",
       "      <td>113.954804</td>\n",
       "      <td>124.763465</td>\n",
       "      <td>236.272879</td>\n",
       "      <td>...</td>\n",
       "      <td>495.812832</td>\n",
       "      <td>548.783390</td>\n",
       "      <td>640.000000</td>\n",
       "      <td>568.051696</td>\n",
       "      <td>510.059024</td>\n",
       "      <td>537.011808</td>\n",
       "      <td>613.228083</td>\n",
       "      <td>570.675923</td>\n",
       "      <td>525.993284</td>\n",
       "      <td>A</td>\n",
       "    </tr>\n",
       "    <tr>\n",
       "      <th>3</th>\n",
       "      <td>320.0</td>\n",
       "      <td>146.449547</td>\n",
       "      <td>52.762670</td>\n",
       "      <td>29.615589</td>\n",
       "      <td>0.000000</td>\n",
       "      <td>141.584634</td>\n",
       "      <td>136.098256</td>\n",
       "      <td>132.296266</td>\n",
       "      <td>140.982094</td>\n",
       "      <td>232.278022</td>\n",
       "      <td>...</td>\n",
       "      <td>498.012642</td>\n",
       "      <td>546.764211</td>\n",
       "      <td>640.000000</td>\n",
       "      <td>567.428109</td>\n",
       "      <td>510.135871</td>\n",
       "      <td>534.658145</td>\n",
       "      <td>612.455030</td>\n",
       "      <td>565.478866</td>\n",
       "      <td>518.710051</td>\n",
       "      <td>A</td>\n",
       "    </tr>\n",
       "    <tr>\n",
       "      <th>4</th>\n",
       "      <td>320.0</td>\n",
       "      <td>146.296694</td>\n",
       "      <td>51.539168</td>\n",
       "      <td>21.959509</td>\n",
       "      <td>0.000000</td>\n",
       "      <td>155.768251</td>\n",
       "      <td>138.514614</td>\n",
       "      <td>123.362193</td>\n",
       "      <td>129.759000</td>\n",
       "      <td>240.778083</td>\n",
       "      <td>...</td>\n",
       "      <td>498.542382</td>\n",
       "      <td>549.974288</td>\n",
       "      <td>640.000000</td>\n",
       "      <td>571.566510</td>\n",
       "      <td>511.950655</td>\n",
       "      <td>537.017565</td>\n",
       "      <td>615.673770</td>\n",
       "      <td>571.212285</td>\n",
       "      <td>522.407330</td>\n",
       "      <td>A</td>\n",
       "    </tr>\n",
       "    <tr>\n",
       "      <th>...</th>\n",
       "      <td>...</td>\n",
       "      <td>...</td>\n",
       "      <td>...</td>\n",
       "      <td>...</td>\n",
       "      <td>...</td>\n",
       "      <td>...</td>\n",
       "      <td>...</td>\n",
       "      <td>...</td>\n",
       "      <td>...</td>\n",
       "      <td>...</td>\n",
       "      <td>...</td>\n",
       "      <td>...</td>\n",
       "      <td>...</td>\n",
       "      <td>...</td>\n",
       "      <td>...</td>\n",
       "      <td>...</td>\n",
       "      <td>...</td>\n",
       "      <td>...</td>\n",
       "      <td>...</td>\n",
       "      <td>...</td>\n",
       "      <td>...</td>\n",
       "    </tr>\n",
       "    <tr>\n",
       "      <th>485</th>\n",
       "      <td>320.0</td>\n",
       "      <td>283.039683</td>\n",
       "      <td>224.786252</td>\n",
       "      <td>181.248783</td>\n",
       "      <td>177.223181</td>\n",
       "      <td>181.980169</td>\n",
       "      <td>59.708881</td>\n",
       "      <td>86.181226</td>\n",
       "      <td>128.651810</td>\n",
       "      <td>178.692024</td>\n",
       "      <td>...</td>\n",
       "      <td>380.404808</td>\n",
       "      <td>358.196035</td>\n",
       "      <td>339.526864</td>\n",
       "      <td>325.499820</td>\n",
       "      <td>330.433550</td>\n",
       "      <td>291.103635</td>\n",
       "      <td>273.794624</td>\n",
       "      <td>253.788026</td>\n",
       "      <td>245.471797</td>\n",
       "      <td>Selesai</td>\n",
       "    </tr>\n",
       "    <tr>\n",
       "      <th>486</th>\n",
       "      <td>320.0</td>\n",
       "      <td>282.323211</td>\n",
       "      <td>224.342011</td>\n",
       "      <td>178.791559</td>\n",
       "      <td>173.742522</td>\n",
       "      <td>180.037423</td>\n",
       "      <td>63.256629</td>\n",
       "      <td>91.372216</td>\n",
       "      <td>133.108542</td>\n",
       "      <td>175.849939</td>\n",
       "      <td>...</td>\n",
       "      <td>379.473601</td>\n",
       "      <td>354.666636</td>\n",
       "      <td>332.414452</td>\n",
       "      <td>320.454258</td>\n",
       "      <td>328.028343</td>\n",
       "      <td>288.820181</td>\n",
       "      <td>267.729567</td>\n",
       "      <td>246.645145</td>\n",
       "      <td>237.288353</td>\n",
       "      <td>Selesai</td>\n",
       "    </tr>\n",
       "    <tr>\n",
       "      <th>487</th>\n",
       "      <td>320.0</td>\n",
       "      <td>281.943823</td>\n",
       "      <td>224.723974</td>\n",
       "      <td>182.015950</td>\n",
       "      <td>176.995096</td>\n",
       "      <td>177.149827</td>\n",
       "      <td>61.284962</td>\n",
       "      <td>87.674020</td>\n",
       "      <td>128.257116</td>\n",
       "      <td>173.777457</td>\n",
       "      <td>...</td>\n",
       "      <td>372.964863</td>\n",
       "      <td>350.387813</td>\n",
       "      <td>330.902474</td>\n",
       "      <td>316.800921</td>\n",
       "      <td>323.064649</td>\n",
       "      <td>283.502595</td>\n",
       "      <td>263.275591</td>\n",
       "      <td>241.266499</td>\n",
       "      <td>232.523491</td>\n",
       "      <td>Selesai</td>\n",
       "    </tr>\n",
       "    <tr>\n",
       "      <th>488</th>\n",
       "      <td>320.0</td>\n",
       "      <td>282.467046</td>\n",
       "      <td>224.763336</td>\n",
       "      <td>181.330650</td>\n",
       "      <td>176.179558</td>\n",
       "      <td>178.297931</td>\n",
       "      <td>62.327721</td>\n",
       "      <td>88.125179</td>\n",
       "      <td>128.670279</td>\n",
       "      <td>173.531271</td>\n",
       "      <td>...</td>\n",
       "      <td>370.095123</td>\n",
       "      <td>347.396270</td>\n",
       "      <td>328.276073</td>\n",
       "      <td>314.776120</td>\n",
       "      <td>321.080800</td>\n",
       "      <td>280.550887</td>\n",
       "      <td>259.778447</td>\n",
       "      <td>238.202034</td>\n",
       "      <td>229.847860</td>\n",
       "      <td>Selesai</td>\n",
       "    </tr>\n",
       "    <tr>\n",
       "      <th>489</th>\n",
       "      <td>320.0</td>\n",
       "      <td>282.841478</td>\n",
       "      <td>225.561917</td>\n",
       "      <td>180.937229</td>\n",
       "      <td>173.917025</td>\n",
       "      <td>175.256000</td>\n",
       "      <td>59.971601</td>\n",
       "      <td>84.718854</td>\n",
       "      <td>123.018797</td>\n",
       "      <td>171.553593</td>\n",
       "      <td>...</td>\n",
       "      <td>375.096666</td>\n",
       "      <td>353.282077</td>\n",
       "      <td>331.825571</td>\n",
       "      <td>318.376270</td>\n",
       "      <td>324.982160</td>\n",
       "      <td>285.946779</td>\n",
       "      <td>264.072180</td>\n",
       "      <td>241.741725</td>\n",
       "      <td>232.660744</td>\n",
       "      <td>Selesai</td>\n",
       "    </tr>\n",
       "  </tbody>\n",
       "</table>\n",
       "<p>5286 rows × 211 columns</p>\n",
       "</div>"
      ],
      "text/plain": [
       "     fitur_1     fitur_2     fitur_3     fitur_4     fitur_5     fitur_6  \\\n",
       "0      320.0  134.708301   34.392446   12.769665    0.000000  145.696174   \n",
       "1      320.0  130.150883   30.815050   12.719490    0.000000  138.628910   \n",
       "2      320.0  130.930720   29.465957    9.237091    0.000000  142.284451   \n",
       "3      320.0  146.449547   52.762670   29.615589    0.000000  141.584634   \n",
       "4      320.0  146.296694   51.539168   21.959509    0.000000  155.768251   \n",
       "..       ...         ...         ...         ...         ...         ...   \n",
       "485    320.0  283.039683  224.786252  181.248783  177.223181  181.980169   \n",
       "486    320.0  282.323211  224.342011  178.791559  173.742522  180.037423   \n",
       "487    320.0  281.943823  224.723974  182.015950  176.995096  177.149827   \n",
       "488    320.0  282.467046  224.763336  181.330650  176.179558  178.297931   \n",
       "489    320.0  282.841478  225.561917  180.937229  173.917025  175.256000   \n",
       "\n",
       "        fitur_7     fitur_8     fitur_9    fitur_10  ...   fitur_202  \\\n",
       "0    117.066474  116.847531  139.331197  238.295912  ...  535.759424   \n",
       "1    125.406017  122.065132  132.449196  232.542191  ...  521.415432   \n",
       "2    123.571689  113.954804  124.763465  236.272879  ...  495.812832   \n",
       "3    136.098256  132.296266  140.982094  232.278022  ...  498.012642   \n",
       "4    138.514614  123.362193  129.759000  240.778083  ...  498.542382   \n",
       "..          ...         ...         ...         ...  ...         ...   \n",
       "485   59.708881   86.181226  128.651810  178.692024  ...  380.404808   \n",
       "486   63.256629   91.372216  133.108542  175.849939  ...  379.473601   \n",
       "487   61.284962   87.674020  128.257116  173.777457  ...  372.964863   \n",
       "488   62.327721   88.125179  128.670279  173.531271  ...  370.095123   \n",
       "489   59.971601   84.718854  123.018797  171.553593  ...  375.096666   \n",
       "\n",
       "      fitur_203   fitur_204   fitur_205   fitur_206   fitur_207   fitur_208  \\\n",
       "0    556.293177  636.938118  589.824337  539.342499  544.262461  619.052197   \n",
       "1    548.210228  637.132735  584.476236  528.805951  536.877390  613.959383   \n",
       "2    548.783390  640.000000  568.051696  510.059024  537.011808  613.228083   \n",
       "3    546.764211  640.000000  567.428109  510.135871  534.658145  612.455030   \n",
       "4    549.974288  640.000000  571.566510  511.950655  537.017565  615.673770   \n",
       "..          ...         ...         ...         ...         ...         ...   \n",
       "485  358.196035  339.526864  325.499820  330.433550  291.103635  273.794624   \n",
       "486  354.666636  332.414452  320.454258  328.028343  288.820181  267.729567   \n",
       "487  350.387813  330.902474  316.800921  323.064649  283.502595  263.275591   \n",
       "488  347.396270  328.276073  314.776120  321.080800  280.550887  259.778447   \n",
       "489  353.282077  331.825571  318.376270  324.982160  285.946779  264.072180   \n",
       "\n",
       "      fitur_209   fitur_210  classes  \n",
       "0    593.708081  557.538908        A  \n",
       "1    589.747087  552.753362        A  \n",
       "2    570.675923  525.993284        A  \n",
       "3    565.478866  518.710051        A  \n",
       "4    571.212285  522.407330        A  \n",
       "..          ...         ...      ...  \n",
       "485  253.788026  245.471797  Selesai  \n",
       "486  246.645145  237.288353  Selesai  \n",
       "487  241.266499  232.523491  Selesai  \n",
       "488  238.202034  229.847860  Selesai  \n",
       "489  241.741725  232.660744  Selesai  \n",
       "\n",
       "[5286 rows x 211 columns]"
      ]
     },
     "execution_count": 220,
     "metadata": {},
     "output_type": "execute_result"
    }
   ],
   "source": [
    "data_all"
   ]
  },
  {
   "cell_type": "code",
   "execution_count": 221,
   "metadata": {},
   "outputs": [
    {
     "data": {
      "text/plain": [
       "C          1434\n",
       "F           774\n",
       "B           681\n",
       "D           654\n",
       "E           633\n",
       "A           620\n",
       "Selesai     490\n",
       "Name: classes, dtype: int64"
      ]
     },
     "execution_count": 221,
     "metadata": {},
     "output_type": "execute_result"
    }
   ],
   "source": [
    "data_all['classes'].value_counts()"
   ]
  },
  {
   "cell_type": "markdown",
   "metadata": {},
   "source": [
    "# 2. Membagi Data Untuk Label dan Feature-Feature dari Datasets"
   ]
  },
  {
   "cell_type": "code",
   "execution_count": 223,
   "metadata": {},
   "outputs": [
    {
     "data": {
      "text/plain": [
       "array([[320.      , 134.7083  ,  34.392445, ..., 619.0522  , 593.70807 ,\n",
       "        557.5389  ],\n",
       "       [320.      , 130.15088 ,  30.81505 , ..., 613.9594  , 589.7471  ,\n",
       "        552.75336 ],\n",
       "       [320.      , 130.93073 ,  29.465958, ..., 613.2281  , 570.6759  ,\n",
       "        525.9933  ],\n",
       "       ...,\n",
       "       [320.      , 281.94382 , 224.72397 , ..., 263.2756  , 241.2665  ,\n",
       "        232.5235  ],\n",
       "       [320.      , 282.46704 , 224.76334 , ..., 259.77844 , 238.20203 ,\n",
       "        229.84785 ],\n",
       "       [320.      , 282.8415  , 225.56192 , ..., 264.07217 , 241.74173 ,\n",
       "        232.66075 ]], dtype=float32)"
      ]
     },
     "execution_count": 223,
     "metadata": {},
     "output_type": "execute_result"
    }
   ],
   "source": [
    "X = data_all.values[:,:-1]\n",
    "X = X.astype('float32')\n",
    "X"
   ]
  },
  {
   "cell_type": "code",
   "execution_count": 224,
   "metadata": {},
   "outputs": [
    {
     "data": {
      "text/plain": [
       "array(['A', 'A', 'A', ..., 'Selesai', 'Selesai', 'Selesai'], dtype=object)"
      ]
     },
     "execution_count": 224,
     "metadata": {},
     "output_type": "execute_result"
    }
   ],
   "source": [
    "Y = data_all.values[:,-1]\n",
    "Y"
   ]
  },
  {
   "cell_type": "code",
   "execution_count": 227,
   "metadata": {},
   "outputs": [
    {
     "data": {
      "text/plain": [
       "array([0, 0, 0, ..., 6, 6, 6])"
      ]
     },
     "execution_count": 227,
     "metadata": {},
     "output_type": "execute_result"
    }
   ],
   "source": [
    "# label encoder to transform the categorical labels to numeric value\n",
    "LE = LabelEncoder()\n",
    "Y = LE.fit_transform(Y)\n",
    "Y"
   ]
  },
  {
   "cell_type": "markdown",
   "metadata": {},
   "source": [
    "## 3. Membagi Data untuk Data Training dan Data Testing"
   ]
  },
  {
   "cell_type": "code",
   "execution_count": 228,
   "metadata": {},
   "outputs": [
    {
     "name": "stdout",
     "output_type": "stream",
     "text": [
      "(4228, 210) (1058, 210) (4228,) (1058,)\n"
     ]
    }
   ],
   "source": [
    "X_train, X_test, y_train, y_test = train_test_split(X, Y, test_size=0.20, random_state=42)\n",
    "print(X_train.shape, X_test.shape, y_train.shape, y_test.shape)"
   ]
  },
  {
   "cell_type": "markdown",
   "metadata": {},
   "source": [
    "## 4. Melakukan Modeling Menggunakan SVM untuk Classification"
   ]
  },
  {
   "cell_type": "code",
   "execution_count": 229,
   "metadata": {},
   "outputs": [
    {
     "data": {
      "text/plain": [
       "SVC(C=100, probability=True)"
      ]
     },
     "execution_count": 229,
     "metadata": {},
     "output_type": "execute_result"
    }
   ],
   "source": [
    "svm_model = SVC(kernel='rbf', C=100, probability=True)\n",
    " \n",
    "# getting train from your train and label data\n",
    "svm_model.fit(X_train, y_train)"
   ]
  },
  {
   "cell_type": "markdown",
   "metadata": {},
   "source": [
    "# 5. Evaluasi Terhadap Model yang Telah Didapat"
   ]
  },
  {
   "cell_type": "code",
   "execution_count": 230,
   "metadata": {},
   "outputs": [
    {
     "name": "stdout",
     "output_type": "stream",
     "text": [
      "Accuracy: 0.9716446124763705\n"
     ]
    }
   ],
   "source": [
    "y_pred = svm_model.predict(X_test)\n",
    "print(\"Accuracy:\",metrics.accuracy_score(y_test, y_pred))"
   ]
  },
  {
   "cell_type": "code",
   "execution_count": 231,
   "metadata": {},
   "outputs": [
    {
     "name": "stdout",
     "output_type": "stream",
     "text": [
      "              precision    recall  f1-score   support\n",
      "\n",
      "           0       0.99      1.00      1.00       133\n",
      "           1       0.88      0.92      0.90       140\n",
      "           2       0.96      0.93      0.95       282\n",
      "           3       1.00      1.00      1.00       123\n",
      "           4       1.00      1.00      1.00       126\n",
      "           5       1.00      1.00      1.00       161\n",
      "           6       1.00      1.00      1.00        93\n",
      "\n",
      "    accuracy                           0.97      1058\n",
      "   macro avg       0.98      0.98      0.98      1058\n",
      "weighted avg       0.97      0.97      0.97      1058\n",
      "\n"
     ]
    }
   ],
   "source": [
    "print(classification_report(y_test, y_pred))"
   ]
  },
  {
   "cell_type": "markdown",
   "metadata": {},
   "source": [
    "# 6. Menyimpan Model "
   ]
  },
  {
   "cell_type": "code",
   "execution_count": 232,
   "metadata": {},
   "outputs": [],
   "source": [
    "# save your svm model\n",
    "path_saving_model = './model/mymodel.sav'\n",
    "\n",
    "with open(path_saving_model, 'wb') as handle:\n",
    "    pickle.dump(svm_model, handle)"
   ]
  }
 ],
 "metadata": {
  "kernelspec": {
   "display_name": "Python 3.9.0 ('preschool')",
   "language": "python",
   "name": "python3"
  },
  "language_info": {
   "codemirror_mode": {
    "name": "ipython",
    "version": 3
   },
   "file_extension": ".py",
   "mimetype": "text/x-python",
   "name": "python",
   "nbconvert_exporter": "python",
   "pygments_lexer": "ipython3",
   "version": "3.9.0"
  },
  "orig_nbformat": 4,
  "vscode": {
   "interpreter": {
    "hash": "137073de05bac0d0bbb3f8c6b5e8fe7f3bb5f3eb1c75f3b20c0670ab9317ae6b"
   }
  }
 },
 "nbformat": 4,
 "nbformat_minor": 2
}
